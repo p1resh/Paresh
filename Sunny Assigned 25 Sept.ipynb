{
 "cells": [
  {
   "cell_type": "markdown",
   "id": "d39f9ff1",
   "metadata": {},
   "source": [
    "ASSIGNMENTS - NOT compulsory but usefull!!\n",
    "I am not at loss if you don't submit\n",
    "send the mail to\n",
    "send it before 0000 hrs IST | 12 AM tonight\n",
    "Special cases respond atleast before 1200 hrs IST tomorrow i.e Monday\n",
    "TO: query@ineuron.ai CC: sunny@ineuron.ai, riishav@ineuron.ai, boktiar@ineuron.ai\n",
    "\n",
    "Subject: [Bootcamp 2.0 | Assignment No. 1]:\n",
    "\n",
    "Find out all the types of error that we have encountered in our lecture and why? Also include the examples.\n",
    "Take input A and B and print their sum, mul, div, square of the nos.\n",
    "How many reserve keywords are there in python and why we should not use them as a variable name.\n",
    "Create email ids with the user inputs. in the following format - lastname.firstname@gmail.com\n",
    "Try to print the following lines -\n",
    "Hi I'm Sunny\n",
    "My address is 22\\3\n",
    "I earn 20$ daily.\n",
    "Take user input (name, address, date of birth etc) to fill a form for your college and print their email IDs\n",
    "Convert the following -\n",
    "\"22.4\" into integer\n",
    "\"22\" into complex no."
   ]
  },
  {
   "cell_type": "code",
   "execution_count": null,
   "id": "7b96267b",
   "metadata": {},
   "outputs": [],
   "source": [
    "# Errors on 24/09/22\n",
    "\n",
    "\n",
    "\"\"\"\n",
    "(1) NameError                                 Traceback (most recent call last)\n",
    "<ipython-input-4-35ceb22ef007> in <module>\n",
    "----> 1 Print(\"Good Evening\")\n",
    "\n",
    "NameError: name 'Print' is not defined\n",
    "\n",
    "Answer: print is the original keyword. Python is case sinsitive. Hence Pring is will be considered as variable\n",
    "\n",
    "(2) File \"<ipython-input-6-f065c2c370f4>\", line 1\n",
    "    print(\"Good\n",
    "                ^\n",
    "SyntaxError: EOL while scanning string literal\n",
    "\n",
    "Ans: Python missed End of Line. It need to be in same line like print(\"Good Morning\"). \n",
    "\n",
    "(3)  File \"<ipython-input-17-c46caf541b6e>\", line 3\n",
    "    print(\"Hi my name is \"Sunny\" \")\n",
    "                              ^\n",
    "SyntaxError: invalid syntax\n",
    "Answer: It is simple syntax error. \"\" need to be set after forward slash like \\\"\\\". Pyhton could not understood because in\n",
    "the print function there is already \"\"\n",
    "\n",
    "(4)  File \"<ipython-input-44-186f8d3ec400>\", line 1\n",
    "    ten* = 10\n",
    "         ^\n",
    "SyntaxError: invalid syntax\n",
    "Answer: Variable name should not contain any special charactor\n",
    "\n",
    "(5)\n",
    "File \"<ipython-input-50-c508e1cc1cd5>\", line 1\n",
    "    10ten = 10\n",
    "        ^\n",
    "SyntaxError: invalid syntax\n",
    "Ans: Variable name should not start with number.\n",
    "\n",
    "(6)   File \"<ipython-input-54-91c87c3e0e8f>\", line 1\n",
    "    ten number = 10\n",
    "             ^\n",
    "SyntaxError: invalid syntax\n",
    "Ans: There should not be any gap in Variable name\n",
    "\n",
    "(7)TypeError                                 Traceback (most recent call last)\n",
    "<ipython-input-77-f9dbf96c2523> in <module>\n",
    "----> 1 \"Day \" + 1\n",
    "\n",
    "TypeError: can only concatenate str (not \"int\") to str\n",
    "Ans: concatenate of string with integer is not possible. we need to convert integer into string\n",
    "\n",
    "\"\"\"\n",
    "\n",
    "# Errors on 25/09/22\n",
    "\n",
    "\"\"\" (1) NameError: name 'Ten' is not defined: \n",
    "When such variable does not exist or defined by us.\n",
    "\n",
    "(2) TypeError: 'str' object is not callable:  \n",
    "'str' object is not callable means you are using your notation on a string, and Python tries to use that str object \n",
    "as a function.\n",
    "\n",
    "(3)TypeError: unsupported operand type(s) for -: 'int' and 'str'\n",
    "These happened because in the input function we enter integer valuse insted of string. So python did not supporte.\n",
    "\n",
    "(4) ValueError                                Traceback (most recent call last)\n",
    "<ipython-input-81-66a6f430b15b> in <module>\n",
    "      1 A = float(input(\"Enter value of A: \"))\n",
    "----> 2 B = int(input(\"Enter value of B: \"))\n",
    "      3 \n",
    "      4 print(f\"Sum of A and B is: {A+B}\")\n",
    "ValueError: invalid literal for int() with base 10: '10.2'\n",
    "\n",
    "Answewr: We input float value with along with '' (i.e. string) in the input function. So basically int(input('10.2')) will given you\n",
    "error. Either it should be float(input(10.2)) or int(input(10)).\n",
    "\n",
    "\n",
    "\"\"\""
   ]
  },
  {
   "cell_type": "code",
   "execution_count": 36,
   "id": "3d0e46cb",
   "metadata": {},
   "outputs": [
    {
     "name": "stdout",
     "output_type": "stream",
     "text": [
      "10\n",
      "2\n",
      "12\n",
      "8\n",
      "20\n",
      "5.0\n",
      "0\n",
      "100\n"
     ]
    }
   ],
   "source": [
    "# Take input A and B and print their sum, mul, div, square of the nos.\n",
    "a = int(input())\n",
    "b = int(input())\n",
    "print(a+b) # sum\n",
    "print(a-b) # substract\n",
    "print(a*b) # multiplication\n",
    "print(a/b) # Division\n",
    "print(a%b) # gives remainder\n",
    "print(a**b) # power of"
   ]
  },
  {
   "cell_type": "code",
   "execution_count": 33,
   "id": "abf9f3c8",
   "metadata": {},
   "outputs": [],
   "source": [
    "# How many reserve keywords are there in python and why we should not use them as a variable name.\n",
    "# Ans: There are 36 keywords in Python 3.9; We can't use keywords as variable because keywords has unique functionality/meaning\n",
    "# and those are reserved in python and value of variable will change. If we use variable as keyword then that perticular \n",
    "# keyword will take that value of that variable  and reserved functionality of that keyword will vanish. \n",
    "# Python don't restrict to use keyword as variable. We need to take care of this thing\n"
   ]
  },
  {
   "cell_type": "code",
   "execution_count": 21,
   "id": "030ee611",
   "metadata": {},
   "outputs": [
    {
     "name": "stdout",
     "output_type": "stream",
     "text": [
      "Last_name: mahajan\n",
      "First_name: paresh\n",
      "My email address is: mahajan.paresh@gmail.com\n"
     ]
    }
   ],
   "source": [
    "# Create email ids with the user inputs. in the following format - lastname.firstname@gmail.com\n",
    "\n",
    "Last_name = input(\"Last_name: \")\n",
    "First_name = input(\"First_name: \")\n",
    "print(f\"My email address is: {Last_name}.{First_name}@gmail.com\")"
   ]
  },
  {
   "cell_type": "code",
   "execution_count": 15,
   "id": "d2f24bd2",
   "metadata": {},
   "outputs": [
    {
     "name": "stdout",
     "output_type": "stream",
     "text": [
      "Hi I'm Sunny\n",
      "My address is 22/d\n",
      "I earn 20$ daily\n"
     ]
    }
   ],
   "source": [
    "# Try to print the following lines -\n",
    "# Hi I'm Sunny\n",
    "# My address is 22\\3\n",
    "# I earn 20$ daily.\n",
    "\n",
    "print(\"\"\"Hi I'm Sunny\n",
    "My address is 22/d\n",
    "I earn 20$ daily\"\"\")"
   ]
  },
  {
   "cell_type": "code",
   "execution_count": 25,
   "id": "cbacc885",
   "metadata": {},
   "outputs": [
    {
     "name": "stdout",
     "output_type": "stream",
     "text": [
      "First_name: Mahajan\n",
      "Last_name: Paresh\n",
      "DOB: 1st June 1984\n",
      "Address: Plot 17, Sector p-13, Ganesh Chawk road, Near Mahesh bhavan, CIDCO, Nashik 422009, MH\n",
      "Full name: Mahajan Paresh\n",
      "1st June 1984\n",
      "Plot 17, Sector p-13, Ganesh Chawk road, Near Mahesh bhavan, CIDCO, Nashik 422009, MH\n",
      "My email address is: Paresh.Mahajan@gmail.com\n"
     ]
    }
   ],
   "source": [
    "# Take user input (name, address, date of birth etc) to fill a form for your college and print their email IDs\n",
    "\n",
    "First_name = input(\"First_name: \")\n",
    "Last_name = input(\"Last_name: \")\n",
    "DOB = input(\"DOB: \")\n",
    "Address = input(\"Address: \")\n",
    "\n",
    "# Dear Students, please fill the form below:\n",
    "print(f\"Full name: {First_name} {Last_name}\")\n",
    "print(DOB)\n",
    "print(Address)\n",
    "print(f\"My email address is: {Last_name}.{First_name}@gmail.com\")\n"
   ]
  },
  {
   "cell_type": "code",
   "execution_count": 28,
   "id": "3a38073e",
   "metadata": {},
   "outputs": [
    {
     "data": {
      "text/plain": [
       "(22+0j)"
      ]
     },
     "execution_count": 28,
     "metadata": {},
     "output_type": "execute_result"
    }
   ],
   "source": [
    "#Convert the following -\n",
    "# \"22.4\" into integer\n",
    "# \"22\" into complex no\n",
    "\n",
    "complex(22)"
   ]
  },
  {
   "cell_type": "code",
   "execution_count": 29,
   "id": "4b2c7589",
   "metadata": {},
   "outputs": [
    {
     "data": {
      "text/plain": [
       "22"
      ]
     },
     "execution_count": 29,
     "metadata": {},
     "output_type": "execute_result"
    }
   ],
   "source": [
    "int(22.4)"
   ]
  }
 ],
 "metadata": {
  "kernelspec": {
   "display_name": "Python 3 (ipykernel)",
   "language": "python",
   "name": "python3"
  },
  "language_info": {
   "codemirror_mode": {
    "name": "ipython",
    "version": 3
   },
   "file_extension": ".py",
   "mimetype": "text/x-python",
   "name": "python",
   "nbconvert_exporter": "python",
   "pygments_lexer": "ipython3",
   "version": "3.9.12"
  }
 },
 "nbformat": 4,
 "nbformat_minor": 5
}
