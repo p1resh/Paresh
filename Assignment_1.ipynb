{
 "cells": [
  {
   "cell_type": "markdown",
   "id": "fcf47992",
   "metadata": {},
   "source": [
    "1. In the below elements which of them are values or an expression? eg:- values can be integer or string and expressions will be mathematical operators.\n",
    "* \n",
    "'hello'\n",
    "-87.8\n",
    "- \n",
    "/ \n",
    "+\t\n",
    "6 \n",
    "\n",
    "\n",
    "Answer: *, -, ?, +, "
   ]
  },
  {
   "cell_type": "markdown",
   "id": "521a1f44",
   "metadata": {},
   "source": [
    "2. What is the difference between string and variable?\n",
    "\n",
    "variable is a value that can change, depending on conditions or on information passed to the program while String is a type of information you would store in a Variabl.\n",
    "A String is usually words, enclosed with \"\" while A variable can have a short name (like x and y) or a more descriptive name with specific rules."
   ]
  },
  {
   "cell_type": "markdown",
   "id": "2c853c05",
   "metadata": {},
   "source": [
    "3. Describe three different data types.\n",
    "\n",
    "A) int: The int type in Python designates a integer number. There is effectively no limit to how long an integer value can be.\n",
    "B) str: Strings are sequences of character data. The string type in Python is called str.\n",
    "C) float: The float type in Python designates a floating-point number.float values are specified with a decimal point."
   ]
  },
  {
   "cell_type": "markdown",
   "id": "6db97b58",
   "metadata": {},
   "source": [
    "4. What is an expression made up of? What do all expressions do?\n",
    "\n",
    "An expression is a combination of values, variables, operators, and calls to functions. It is any legal combination of symbols that represents a value.Every expression consists of at least one operand and can have one or more operators. Operands are values, whereas operators are symbols that represent particular actions. \n",
    "In the expression x + 5, the x and 5 are operands, and + is an operator. It gives specific result based on operands and operator we select."
   ]
  },
  {
   "cell_type": "markdown",
   "id": "257cd471",
   "metadata": {},
   "source": [
    "5. This assignment statements, like spam = 10. What is the difference between an expression and a statement?\n",
    "\n",
    "A statement is a complete line of code that performs some action, while an expression is any section of the code that evaluates to a value. "
   ]
  },
  {
   "cell_type": "markdown",
   "id": "bdbc07ad",
   "metadata": {},
   "source": [
    "6. After running the following code, what does the variable bacon contain?\n",
    "bacon = 22\n",
    "bacon + 1\n",
    "\n",
    "Answer: bacon will contain 22 only."
   ]
  },
  {
   "cell_type": "markdown",
   "id": "3f44bd0e",
   "metadata": {},
   "source": [
    "7. What should the values of the following two terms be?\n",
    "'spam' + 'spamspam'\n",
    "'spam' * 3\n",
    "\n",
    "'spam' + 'spamspam'\n",
    "                    Answer: 'spamspamspam'\n",
    "\n",
    "'spam' * 3\n",
    "                    Answer: 'spamspamspam'\n"
   ]
  },
  {
   "cell_type": "markdown",
   "id": "d950759f",
   "metadata": {},
   "source": [
    "8. Why is eggs a valid variable name while 100 is invalid?\n",
    "\n",
    "eggs: It is valide because a variable name must start with a letter or the underscore character\n",
    "100: It is invalide because a variable name cannot start with a number"
   ]
  },
  {
   "cell_type": "markdown",
   "id": "560c68ae",
   "metadata": {},
   "source": [
    "9. What three functions can be used to get the integer, floating-point number, or string version of a value?\n",
    "\n",
    "Integer — int()\n",
    "Floating-point —float()\n",
    "String — str()"
   ]
  },
  {
   "cell_type": "markdown",
   "id": "25d82fd3",
   "metadata": {},
   "source": [
    "10. Why does this expression cause an error? How can you fix it?\n",
    "\n",
    "'I have eaten ' + 99 + ' burritos.'\n",
    "\n",
    "Answer: Here 99 is the integer value and rest of are string. Concetenation of str with int is not possible. To fix it we must use cast type and convert integer 99 into string '99'."
   ]
  },
  {
   "cell_type": "code",
   "execution_count": null,
   "id": "d36fdbe9",
   "metadata": {},
   "outputs": [],
   "source": []
  }
 ],
 "metadata": {
  "kernelspec": {
   "display_name": "Python 3 (ipykernel)",
   "language": "python",
   "name": "python3"
  },
  "language_info": {
   "codemirror_mode": {
    "name": "ipython",
    "version": 3
   },
   "file_extension": ".py",
   "mimetype": "text/x-python",
   "name": "python",
   "nbconvert_exporter": "python",
   "pygments_lexer": "ipython3",
   "version": "3.9.12"
  }
 },
 "nbformat": 4,
 "nbformat_minor": 5
}
